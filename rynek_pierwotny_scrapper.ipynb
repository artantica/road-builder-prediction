{
 "cells": [
  {
   "cell_type": "markdown",
   "metadata": {},
   "source": [
    "```\n",
    "curl 'https://rynekpierwotny.pl/api/v2/offers/offer/13402/?s=offer-detail-map' \\\n",
    "  -H 'authority: rynekpierwotny.pl' \\\n",
    "  -H 'accept: application/json' \\\n",
    "  -H 'content-type: application/json' \\\n",
    "  -H 'user-agent: Mozilla/5.0 (Windows NT 10.0; Win64; x64) AppleWebKit/537.36 (KHTML, like Gecko) Chrome/97.0.4692.71 Safari/537.36' \\\n",
    "  -H 'referer: https://rynekpierwotny.pl/s/nowe-mieszkania/mapa/' \\\n",
    "  -H 'accept-language: en-US,en;q=0.9,pl-PL;q=0.8,pl;q=0.7' \\\n",
    "  --compressed\n",
    "```"
   ]
  },
  {
   "cell_type": "code",
   "execution_count": 72,
   "metadata": {},
   "outputs": [],
   "source": [
    "import requests\n",
    "import json\n",
    "import sqlite3\n",
    "import os\n",
    "import time\n",
    "\n",
    "import logging\n",
    "import logging.handlers"
   ]
  },
  {
   "cell_type": "code",
   "execution_count": 99,
   "metadata": {},
   "outputs": [],
   "source": [
    "LOG_DIR = 'logs'\n",
    "DATA_DIR = 'data_rynek_pierwotny'\n",
    "\n",
    "headers = {\n",
    "    'authority': 'rynekpierwotny.pl',\n",
    "    'accept': 'application/json',\n",
    "    'content-type': 'application/json',\n",
    "    'user-agent': 'Mozilla/5.0 (Windows NT 10.0; Win64; x64) AppleWebKit/537.36 (KHTML, like Gecko) Chrome/97.0.4692.71 Safari/537.36',\n",
    "    'referer': 'https://rynekpierwotny.pl/s/nowe-mieszkania/mapa/',\n",
    "    'accept-language': 'en-US,en;q=0.9,pl-PL;q=0.8,pl;q=0.7',\n",
    "}\n",
    "\n",
    "root = None\n",
    "\n",
    "if not os.path.exists(LOG_DIR):\n",
    "    os.makedirs(LOG_DIR)\n",
    "\n",
    "if not os.path.exists(DATA_DIR):\n",
    "    os.makedirs(DATA_DIR)"
   ]
  },
  {
   "cell_type": "code",
   "execution_count": 131,
   "metadata": {},
   "outputs": [],
   "source": [
    "conn = sqlite3.connect('rynek_pierwotny.db')\n",
    "cur = conn.cursor()"
   ]
  },
  {
   "cell_type": "code",
   "execution_count": 71,
   "metadata": {},
   "outputs": [],
   "source": [
    "#get the count of tables with the name\n",
    "cur.execute('''SELECT count(name) FROM sqlite_master WHERE type='table' AND name='RYNEK_PIERWOTNY' ''')\n",
    "cur.execute('''SELECT count(name) FROM sqlite_master WHERE type='table' AND name='RYNEK_PIERWOTNY_NOT_FOUND' ''')\n",
    "\n",
    "#if the count is 1, then table exists\n",
    "if cur.fetchone()[0]==1 :\n",
    "\tprint('Table exists.')\n",
    "else:\n",
    "    # Create table\n",
    "    cur.execute('''CREATE TABLE \"RYNEK_PIERWOTNY\" (\n",
    "\t\"Id\"\tINTEGER NOT NULL,\n",
    "\t\"Address\"\tTEXT,\n",
    "\t\"Construction_date_begin\"\tTEXT,\n",
    "\t\"Construction_date_end\"\tTEXT,\n",
    "\t\"Latitude\"\tREAL,\n",
    "\t\"Longitude\"\tREAL,\n",
    "\t\"Name\"\tTEXT,\n",
    "\t\"Price_type\"\tINTEGER,\n",
    "\t\"Region_full_name\"\tTEXT,\n",
    "\t\"Region_id\"\tINTEGER,\n",
    "\t\"Region_short_name\"\tTEXT,\n",
    "\t\"Stats_distance_from_region_center\"\tINTEGER,\n",
    "\t\"Stats_distance_from_region_region\"\tTEXT,\n",
    "\t\"Stats_distance_from_region_distance\"\tREAL,\n",
    "\t\"Stats_properties_count_for_sale\"\tINTEGER,\n",
    "\t\"Stats_properties_with_roi_count\"\tINTEGER,\n",
    "\t\"Stats_ranges_area_max\"\tINTEGER,\n",
    "\t\"Stats_ranges_area_min\"\tINTEGER,\n",
    "\t\"Stats_ranges_price_m2_min\"\tINTEGER,\n",
    "\t\"Stats_ranges_rooms_max\"\tINTEGER,\n",
    "\t\"Stats_ranges_rooms_min\"\tINTEGER,\n",
    "\t\"Street_name\"\tTEXT,\n",
    "\t\"Street_number\"\tTEXT,\n",
    "\t\"Type\"\tINTEGER,\n",
    "\tPRIMARY KEY(\"Id\")\n",
    ");''')\n",
    "    conn.commit()"
   ]
  },
  {
   "cell_type": "code",
   "execution_count": 148,
   "metadata": {},
   "outputs": [],
   "source": [
    "#get the count of tables with the name\n",
    "cur.execute('''SELECT count(name) FROM sqlite_master WHERE type='table' AND name='RYNEK_PIERWOTNY_NOT_FOUND' ''')\n",
    "\n",
    "#if the count is 1, then table exists\n",
    "if cur.fetchone()[0]==1 :\n",
    "\tprint('Table exists.')\n",
    "else:\n",
    "    # Create table\n",
    "    cur.execute('''CREATE TABLE \"RYNEK_PIERWOTNY_NOT_FOUND\" (\n",
    "\t\"Id\"\tINTEGER NOT NULL\n",
    ");''')\n",
    "    conn.commit()"
   ]
  },
  {
   "cell_type": "code",
   "execution_count": 151,
   "metadata": {},
   "outputs": [],
   "source": [
    "def get_all_fetched_ids():\n",
    "    results_count = cur.execute(\"select Id from RYNEK_PIERWOTNY\")\n",
    "    results = results_count.fetchall()\n",
    "    return [r[0] for r in results]\n",
    "\n",
    "def get_all_not_found_ids():\n",
    "    results_count = cur.execute(\"select Id from RYNEK_PIERWOTNY_NOT_FOUND\")\n",
    "    results = results_count.fetchall()\n",
    "    return [r[0] for r in results]\n",
    "\n",
    "def count_data_items(folder):\n",
    "    return len([name for name in os.listdir(folder)])\n",
    "\n",
    "def set_handler():\n",
    "    global root\n",
    "    index = count_data_items(LOG_DIR)\n",
    "    handler = logging.handlers.WatchedFileHandler(\n",
    "        os.environ.get(\"LOGFILE\", f\"logs/rynek_pierwotny_{index}.log\"))\n",
    "    formatter = logging.Formatter('%(asctime)s %(levelname)s %(message)s', datefmt='%Y-%m-%d %H:%M:%S')\n",
    "    handler.setFormatter(formatter)\n",
    "    root = logging.getLogger()\n",
    "    root.setLevel(os.environ.get(\"LOGLEVEL\", \"DEBUG\"))\n",
    "    root.addHandler(handler)\n",
    "\n",
    "def check_if_null(value):\n",
    "    if value == None:\n",
    "        return ':null'\n",
    "    return value\n",
    "\n",
    "def check_text(value):\n",
    "    if value:\n",
    "        value = value.replace('\\'', '\\'\\'')\n",
    "    return check_if_null(value)"
   ]
  },
  {
   "cell_type": "code",
   "execution_count": 152,
   "metadata": {},
   "outputs": [],
   "source": [
    "def fetch_rynek_pierwotny(ids: list):\n",
    "    set_handler()\n",
    "\n",
    "    # check, which ids where fetched\n",
    "    fetched_ids = get_all_fetched_ids()\n",
    "    root.debug(f\"Number of ids already fetched: {len(fetched_ids)}\")\n",
    "\n",
    "    not_founnd_ids = get_all_not_found_ids()\n",
    "    root.debug(f\"Number of ids not found: {len(not_founnd_ids)}\")\n",
    "\n",
    "    ids_to_fetch = [item for item in ids if item not in fetched_ids]\n",
    "    ids_to_fetch = [item for item in ids_to_fetch if item not in not_founnd_ids]\n",
    "    root.debug(f\"Number of ids to fetch: {len(ids_to_fetch)}\")\n",
    "\n",
    "    for id in ids_to_fetch:\n",
    "        if id not in fetched_ids:\n",
    "            root.info(f\"Fetching offer with id={id}\")\n",
    "            success = False\n",
    "\n",
    "            while not success:\n",
    "                try:\n",
    "                    response = requests.get(f'https://rynekpierwotny.pl/api/v2/offers/offer/{id}/?s=offer-detail-map', headers=headers)\n",
    "                    json_response = json.loads(response.text)\n",
    "                    root.debug(f\"Got response: {json_response}\")\n",
    "                    success = True\n",
    "                except Exception as e:\n",
    "                    root.error(\"Exception occurred\", exc_info=True)\n",
    "                    time.sleep(30)\n",
    "                    root.info(\"Startating again\")\n",
    "                    success = False\n",
    "            if 'detail' in json_response and json_response['detail'] == 'Nie znaleziono.':\n",
    "                root.info(f\"Id {id} not found.\")\n",
    "                insert_text = f\"INSERT OR IGNORE INTO RYNEK_PIERWOTNY_NOT_FOUND VALUES ('{id}')\"\n",
    "            else:\n",
    "                id = check_if_null(json_response['id'])\n",
    "                address = check_text(json_response['address'])\n",
    "                construction_date_lower = check_text(json_response['construction_date_range']['lower'])\n",
    "                construction_date_upper = check_text(json_response['construction_date_range']['upper'])\n",
    "                coordinates = json_response['geo_point']['coordinates']\n",
    "                name = check_text(json_response['name'])\n",
    "                price_type = check_if_null(json_response['price_type'])\n",
    "                region_full_name = check_text(json_response['region']['full_name'])\n",
    "                region_id = check_if_null(json_response['region']['id'])\n",
    "                region_short_name = check_text(json_response['region']['short_name_reverted'])\n",
    "                slug = check_if_null(json_response['slug'])\n",
    "                stats = json_response['stats'] #dict!\n",
    "                street_name = check_text(json_response['street_name'])\n",
    "                street_number = check_text(json_response['street_number'])\n",
    "                type = check_if_null(json_response['type'])\n",
    "                \n",
    "                insert_text = f\"INSERT OR IGNORE INTO RYNEK_PIERWOTNY VALUES ('{id}', '{address}', '{construction_date_lower}', '{construction_date_upper}', {coordinates[0]}, {coordinates[1]}, '{name}', {price_type}, '{region_full_name}', {region_id}, '{region_short_name}', {stats['distance_from_region']['center']}, '{stats['distance_from_region']['region']}', {stats['distance_from_region']['distance']}, {stats['properties_count_for_sale']}, {stats['properties_with_roi_count']}, {stats['ranges_area_max']}, {stats['ranges_area_min']}, {stats['ranges_price_m2_min']}, {stats['ranges_rooms_max']}, {stats['ranges_rooms_min']}, '{street_name}', '{street_number}', {type})\"\n",
    "                \n",
    "            try:\n",
    "                root.debug(insert_text)\n",
    "                insert_result = cur.execute(insert_text, {'null':None})\n",
    "                conn.commit()\n",
    "            except Exception as error:\n",
    "                root.error(\"Exception occurred\", exc_info=True)\n",
    "                \n",
    "            \n",
    "            root.debug(\"Waiting 2 seconds\")\n",
    "            time.sleep(2)"
   ]
  },
  {
   "cell_type": "code",
   "execution_count": 153,
   "metadata": {},
   "outputs": [],
   "source": [
    "ids = list(range(0000,14000))\n",
    "fetch_rynek_pierwotny(ids)"
   ]
  },
  {
   "cell_type": "code",
   "execution_count": 139,
   "metadata": {},
   "outputs": [
    {
     "data": {
      "text/plain": [
       "{'address': 'koszaliński, Gąski, ul. Nadbrzeżna 52C',\n",
       " 'configuration': {'display_type': 1,\n",
       "  'hide_properties_prices_for_anonymous_users': False,\n",
       "  'limited_presentation': False},\n",
       " 'construction_date_range': {'lower': '2022-03-30',\n",
       "  'upper': '2024-06-30',\n",
       "  'bounds': '[]'},\n",
       " 'description': 'Urokliwy lazur wód Bałtyku oraz piaszczysta plaża tworzą piękną scenerię, którą możesz oglądać przez cały rok. Wystarczy, że wybierzesz Let’s Sea Baltic Park – to miejsce idealne dla Ciebie!\\r\\n\\r\\nLet’s Sea to nie tylko mieszkania całoroczne, to także doskonała lokata kapitału jako połączenie własnego lokum na wakacje z zyskami czerpanymi z najmu.\\r\\n\\r\\nNasz wyjątkowy kompleks powstaje w miejscu, które łączy bliskość natury z komfortem życia – w miejscowości Gąski gmina Mielno. Wszystko po to, aby każdy mógł cieszyć się pięknem Bałtyku i korzystać z udogodnień całorocznego kompleksu.\\r\\n\\r\\nAtuty:\\r\\n- BEZPOŚREDNIO PRZY PLAŻY\\r\\nLokalizacja całego kompleksu w pierwszej linii brzegowej oznacza, że plaża jest na wyciągnięcie ręki. Tylko kilka kroków dzieli naszą inwestycję od złotego piasku i błękitu Bałtyku.\\r\\n\\r\\n- KOMFORTOWE LOKALE CAŁOROCZNE\\r\\n130 przestronnych lokali, doskonale nasłonecznionych to propozycja do osób poszukujących swojego wymarzonego lokum, drugiego domu lub apartamentu na wynajem.\\r\\n\\r\\n- ZRÓŻNICOWANE METRAŻE\\r\\nApartamenty zostały zaprojektowane tak, by wpisać się w potrzeby singli, par oraz rodzin. Oferujemy apartamenty od 25 do 70 m² w przemyślanych rozkładach jedno- dwu- i trzypokojowych.\\r\\n\\r\\n- INFRASTRUKTURA DLA MIESZKAŃCÓW\\r\\nPlany rozwoju kompleksu w II i III etapie obejmują strefę rekreacyjno-sportową, a dla najmłodszych tematycznym placem zabaw pobudzającym kreatywność i wyobraźnię.\\r\\n\\r\\n- BEZPIECZNA INWESTYCJA\\r\\nW trosce o komfort mieszkańców oraz zapewnienia im bezpieczeństwa teren inwestycji będzie ogrodzony. \\r\\n\\r\\n- WIDOK NA MORZE\\r\\nJesteśmy jedną z nielicznych inwestycji nad polskim wybrzeżem, która może się pochwalić niezakłóconym morskim pejzażem roztaczającym się z okien apartamentów.\\r\\n\\r\\nArchitektura: \\r\\n- KAMERALNOŚĆ\\r\\nLet’s Sea Baltic Park to stylowy i kameralny kompleks apartamentów wpisujący się w bezpośrednie otoczenie plaży i wydmy. Nowoczesna oraz prosta architektura nadaje inwestycji elegancji i stanowi spójną całość. Białe elewacje zostały przełamane drewnianymi akcentami i szarością balustrad. W ramach I etapu powstało 90 apartamentów, każdy z widokiem na morze. Obecnie realizowany II etap składać się będzie z 4 budynków, w których powstanie 130 lokali. Do apartamentów na parterze przynależeć będą ogródki, a na wyższych kondygnacjach wyposażone zostaną w tarasy i  balkony. Miejsca postojowe ulokowane zostały w garażu podziemnym.\\r\\n\\r\\n- POWIERZCHNIAOD 25 DO 70 M²\\r\\nKażdy z nas szuka przestrzeni dopasowanej do swoich potrzeb. Let’s Sea Baltic Park to miejsce, które sprosta oczekiwaniom mieszkańców. Lokale zostały zaprojektowane tak, by wpisać się w potrzeby singli, par oraz rodzin. Na czterech kondygnacjach ulokowaliśmy lokale w metrażach od 25 do 70m². w przemyślanych rozkładach jedno- dwu- i trzypokojowych. Jednocześnie zadbaliśmy o to, by każde z mieszkań można było zaaranżować zgodnie z własną wizją i pomysłem. Pomocną rękę wyciągamy również do tych mieszkańców, którzy nie mają wizji wykończenia swojego mieszkania. Tu zachęcamy do skorzystania z dedykowanej oferty wykończeniowej apartamentu.\\r\\n\\r\\n- KOMPLEKS DOPASOWANY DO POTRZEB\\r\\nMimo mnogości atrakcji w pobliżu Let’s Sea Baltic Park zadbaliśmy o poszerzenie dostępnej oferty. W ramach II i III etapu na terenie kompleksu planujemy infrastrukturę dedykowaną mieszkańcom m.in. basen wewnętrzny,  siłownia wewnętrzna i zewnętrzna, sala kinowo-telewizyjna oraz sala spotkań.',\n",
       " 'geo_point': {'type': 'Point',\n",
       "  'coordinates': [15.887953984891748, 54.243783578910076]},\n",
       " 'has_distinction': False,\n",
       " 'has_required_prices': None,\n",
       " 'id': 14028,\n",
       " 'main_image': {'m_img_155x87': 'https://thumbs.rynekpierwotny.pl/3e79b87d:pvtbxq0vdvM0SBTUWyNudeVPa5g/155x87/filters:upscale():format(jpg)/offers/offer/None/main_image/lets-sea-baltic-park-ii_d2a87a.jpg',\n",
       "  'm_img_224x147': 'https://thumbs.rynekpierwotny.pl/3e79b87d:RTDXOVrMRCKpVmr2UMDD_1UA8v4/224x147/filters:upscale():format(jpg)/offers/offer/None/main_image/lets-sea-baltic-park-ii_d2a87a.jpg',\n",
       "  'm_img_350x230': 'https://thumbs.rynekpierwotny.pl/3e79b87d:a0o6D26Tf3c4x2unjLl1HJx5zjw/350x230/filters:upscale():format(jpg)/offers/offer/None/main_image/lets-sea-baltic-park-ii_d2a87a.jpg',\n",
       "  'm_img_350x648': 'https://thumbs.rynekpierwotny.pl/3e79b87d:hb5xbHTmW3spNBk0RhHYzjfnrHk/350x648/filters:upscale():format(jpg)/offers/offer/None/main_image/lets-sea-baltic-park-ii_d2a87a.jpg',\n",
       "  'm_img_375x211': 'https://thumbs.rynekpierwotny.pl/3e79b87d:vBOLHx4wxZBWh4ZbmehVFNXLlP8/375x211/filters:upscale():format(jpg)/offers/offer/None/main_image/lets-sea-baltic-park-ii_d2a87a.jpg',\n",
       "  'm_img_440x248': 'https://thumbs.rynekpierwotny.pl/3e79b87d:7zxxVLwOp1GTA_oI40rzTGR0ns8/440x248/filters:upscale():format(jpg)/offers/offer/None/main_image/lets-sea-baltic-park-ii_d2a87a.jpg',\n",
       "  'm_img_440x440': 'https://thumbs.rynekpierwotny.pl/3e79b87d:jJlFseWEjyhA0lzVk7SXXb2brQg/440x440/filters:upscale():format(jpg)/offers/offer/None/main_image/lets-sea-baltic-park-ii_d2a87a.jpg',\n",
       "  'm_img_500': 'https://thumbs.rynekpierwotny.pl/3e79b87d:ZiiSqY4pkLLw9v1U5NdjZ6sXECs/500x0/filters:format(jpg)/offers/offer/None/main_image/lets-sea-baltic-park-ii_d2a87a.jpg',\n",
       "  'm_img_728x728': 'https://thumbs.rynekpierwotny.pl/3e79b87d:gf_X-T57Y_3g6yn-6qRZ_Lo8vxQ/728x728/filters:upscale():format(jpg)/offers/offer/None/main_image/lets-sea-baltic-park-ii_d2a87a.jpg',\n",
       "  'm_img_750': 'https://thumbs.rynekpierwotny.pl/3e79b87d:hEogGK6lfoWEjmkarIlKSi66nlM/750x0/filters:format(jpg)/offers/offer/None/main_image/lets-sea-baltic-park-ii_d2a87a.jpg',\n",
       "  'm_img_760x428': 'https://thumbs.rynekpierwotny.pl/3e79b87d:Wg3Gp7y0UyaQTaDyu8OqpiQD1ds/760x428/filters:upscale():format(jpg)/offers/offer/None/main_image/lets-sea-baltic-park-ii_d2a87a.jpg',\n",
       "  'm_img_983x552': 'https://thumbs.rynekpierwotny.pl/3e79b87d:4bLj_a7HxGis5o3NhxOio9ALJ-A/983x552/filters:upscale():format(jpg)/offers/offer/None/main_image/lets-sea-baltic-park-ii_d2a87a.jpg',\n",
       "  'm_img_1160x653': 'https://thumbs.rynekpierwotny.pl/3e79b87d:BP9pl_m8Ev-4Rj5unAzy2RUvobI/1160x653/filters:upscale():format(jpg)/offers/offer/None/main_image/lets-sea-baltic-park-ii_d2a87a.jpg',\n",
       "  'm_img_1500': 'https://thumbs.rynekpierwotny.pl/3e79b87d:9CImSdpQENhp2suXGhiXkE0kueE/1500x0/filters:format(jpg)/offers/offer/None/main_image/lets-sea-baltic-park-ii_d2a87a.jpg'},\n",
       " 'name': \"Let's Sea Baltic Park II\",\n",
       " 'price_type': 2,\n",
       " 'region': {'full_name': 'zachodniopomorskie, koszaliński, Gąski',\n",
       "  'id': 53399,\n",
       "  'short_name_reverted': 'Gąski, koszaliński'},\n",
       " 'slug': 'lets-sea-baltic-park-ii-koszalinski-gaski',\n",
       " 'stats': {'distance_from_region': {'center': False,\n",
       "   'region': 'Kołobrzegu',\n",
       "   'distance': 14.5},\n",
       "  'properties_count_for_sale': 130,\n",
       "  'properties_with_roi_count': 0,\n",
       "  'ranges_area_max': 70,\n",
       "  'ranges_area_min': 26,\n",
       "  'ranges_price_m2_min': 0,\n",
       "  'ranges_rooms_max': 3,\n",
       "  'ranges_rooms_min': 1},\n",
       " 'street_name': 'ul. Nadbrzeżna',\n",
       " 'street_number': '52C',\n",
       " 'type': 1,\n",
       " 'vendor': {'id': 7792,\n",
       "  'configuration': {'application_external_api': None},\n",
       "  'logo': {'v_log_120x90': 'https://thumbs.rynekpierwotny.pl/5e89160c:s3gzfiHI4HMSx_IbVuOaLMRfKj0/120x90/filters:no_upscale()/vendors/vendor/logo/lets-sea-baltic-park_7cb975.jpg'},\n",
       "  'name': \"Let's Sea Baltic Park\",\n",
       "  'offices': [],\n",
       "  'slug': 'lets-sea-baltic-resort'}}"
      ]
     },
     "execution_count": 139,
     "metadata": {},
     "output_type": "execute_result"
    }
   ],
   "source": [
    "headers = {\n",
    "    'authority': 'rynekpierwotny.pl',\n",
    "    'accept': 'application/json',\n",
    "    'content-type': 'application/json',\n",
    "    'user-agent': 'Mozilla/5.0 (Windows NT 10.0; Win64; x64) AppleWebKit/537.36 (KHTML, like Gecko) Chrome/97.0.4692.71 Safari/537.36',\n",
    "    'referer': 'https://rynekpierwotny.pl/s/nowe-mieszkania/mapa/',\n",
    "    'accept-language': 'en-US,en;q=0.9,pl-PL;q=0.8,pl;q=0.7',\n",
    "}\n",
    "\n",
    "id = 14028\n",
    "response = requests.get(f'https://rynekpierwotny.pl/api/v2/offers/offer/{id}/?s=offer-detail-map', headers=headers)\n",
    "json_response = json.loads(response.text)\n",
    "json_response"
   ]
  },
  {
   "cell_type": "code",
   "execution_count": 142,
   "metadata": {},
   "outputs": [],
   "source": [
    "def check_text(value):\n",
    "    if value:\n",
    "        value = value.replace('\\'', '\\'\\'')\n",
    "    return check_if_null(value)"
   ]
  },
  {
   "cell_type": "code",
   "execution_count": 143,
   "metadata": {},
   "outputs": [
    {
     "data": {
      "text/plain": [
       "\"INSERT OR IGNORE INTO RYNEK_PIERWOTNY VALUES ('14028', 'koszaliński, Gąski, ul. Nadbrzeżna 52C', '2022-03-30', '2024-06-30', 15.887953984891748, 54.243783578910076, 'Let''s Sea Baltic Park II', 2, 'zachodniopomorskie, koszaliński, Gąski', 53399, 'Gąski, koszaliński', False, 'Kołobrzegu', 14.5, 130, 0, 70, 26, 0, 3, 1, 'ul. Nadbrzeżna', '52C', 1)\""
      ]
     },
     "execution_count": 143,
     "metadata": {},
     "output_type": "execute_result"
    }
   ],
   "source": [
    "id = check_if_null(json_response['id'])\n",
    "address = check_text(json_response['address'])\n",
    "construction_date_lower = check_text(json_response['construction_date_range']['lower'])\n",
    "construction_date_upper = check_text(json_response['construction_date_range']['upper'])\n",
    "coordinates = json_response['geo_point']['coordinates']\n",
    "name = check_text(json_response['name'])\n",
    "price_type = check_if_null(json_response['price_type'])\n",
    "region_full_name = check_text(json_response['region']['full_name'])\n",
    "region_id = check_if_null(json_response['region']['id'])\n",
    "region_short_name = check_text(json_response['region']['short_name_reverted'])\n",
    "slug = check_if_null(json_response['slug'])\n",
    "stats = json_response['stats'] #dict!\n",
    "street_name = check_text(json_response['street_name'])\n",
    "street_number = check_text(json_response['street_number'])\n",
    "type = check_if_null(json_response['type'])\n",
    "insert_text = f\"INSERT OR IGNORE INTO RYNEK_PIERWOTNY VALUES ('{id}', '{address}', '{construction_date_lower}', '{construction_date_upper}', {coordinates[0]}, {coordinates[1]}, '{name}', {price_type}, '{region_full_name}', {region_id}, '{region_short_name}', {stats['distance_from_region']['center']}, '{stats['distance_from_region']['region']}', {stats['distance_from_region']['distance']}, {stats['properties_count_for_sale']}, {stats['properties_with_roi_count']}, {stats['ranges_area_max']}, {stats['ranges_area_min']}, {stats['ranges_price_m2_min']}, {stats['ranges_rooms_max']}, {stats['ranges_rooms_min']}, '{street_name}', '{street_number}', {type})\"\n",
    "insert_text"
   ]
  },
  {
   "cell_type": "code",
   "execution_count": 144,
   "metadata": {},
   "outputs": [
    {
     "data": {
      "text/plain": [
       "[]"
      ]
     },
     "execution_count": 144,
     "metadata": {},
     "output_type": "execute_result"
    }
   ],
   "source": [
    "insert_result = cur.execute(insert_text, {'null':None})\n",
    "results = insert_result.fetchall()\n",
    "conn.commit()\n",
    "results"
   ]
  }
 ],
 "metadata": {
  "interpreter": {
   "hash": "c4e30bdedb7e9f3cd88b0ddb701a0a72c29695cfacdbe45b9882d009e4df6416"
  },
  "kernelspec": {
   "display_name": "Python 3.7.12 64-bit ('.venv': venv)",
   "language": "python",
   "name": "python3"
  },
  "language_info": {
   "codemirror_mode": {
    "name": "ipython",
    "version": 3
   },
   "file_extension": ".py",
   "mimetype": "text/x-python",
   "name": "python",
   "nbconvert_exporter": "python",
   "pygments_lexer": "ipython3",
   "version": "3.9.9"
  },
  "orig_nbformat": 4
 },
 "nbformat": 4,
 "nbformat_minor": 2
}
