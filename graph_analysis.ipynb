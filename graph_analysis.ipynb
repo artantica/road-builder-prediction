{
 "cells": [
  {
   "cell_type": "code",
   "execution_count": 2,
   "metadata": {},
   "outputs": [
    {
     "name": "stdout",
     "output_type": "stream",
     "text": [
      "The autoreload extension is already loaded. To reload it, use:\n",
      "  %reload_ext autoreload\n"
     ]
    }
   ],
   "source": [
    "%load_ext autoreload\n",
    "%autoreload 2\n",
    "\n",
    "import os\n",
    "from itertools import count\n",
    "\n",
    "import contextily as cx\n",
    "import matplotlib.pyplot as plt\n",
    "import networkx as nx\n",
    "import numpy as np\n",
    "import geopandas\n",
    "import osmnx as ox\n",
    "import pandas as pd\n",
    "# from tqdm.auto import tqdm\n",
    "from libpysal.cg import voronoi_frames\n",
    "\n",
    "import shapely\n",
    "shapely.speedups.disable()\n",
    "\n",
    "DATA = \"data\""
   ]
  },
  {
   "cell_type": "code",
   "execution_count": 4,
   "metadata": {},
   "outputs": [],
   "source": [
    "G = nx.read_gpickle(os.path.join(DATA, \"shortest_paths.gpickle\"))"
   ]
  },
  {
   "cell_type": "code",
   "execution_count": 41,
   "metadata": {},
   "outputs": [
    {
     "name": "stdout",
     "output_type": "stream",
     "text": [
      "Liczba krawędzi 116896\n",
      "Liczba wierzchołków 86564\n",
      "Liczba komponentów: 1\n"
     ]
    }
   ],
   "source": [
    "edges = G.edges()\n",
    "nodes = G.nodes()\n",
    "print(f\"Liczba krawędzi {len(edges)}\")\n",
    "print(f\"Liczba wierzchołków {len(nodes)}\")\n",
    "print(f\"Liczba komponentów: {nx.number_connected_components(G)}\")"
   ]
  },
  {
   "cell_type": "code",
   "execution_count": 9,
   "metadata": {},
   "outputs": [],
   "source": [
    "degrees = []\n",
    "for node in nodes:\n",
    "    degree = G.degree(node)\n",
    "    degrees.append(degree)"
   ]
  },
  {
   "cell_type": "code",
   "execution_count": 10,
   "metadata": {},
   "outputs": [
    {
     "data": {
      "text/plain": [
       "<BarContainer object of 24 artists>"
      ]
     },
     "execution_count": 10,
     "metadata": {},
     "output_type": "execute_result"
    },
    {
     "data": {
      "image/png": "[encoded data removed]",
      "text/plain": [
       "<Figure size 720x576 with 1 Axes>"
      ]
     },
     "metadata": {
      "needs_background": "light"
     },
     "output_type": "display_data"
    }
   ],
   "source": [
    "plt.figure(figsize=[10,8])\n",
    "from collections import Counter\n",
    "\n",
    "degree_counts = Counter(degrees)\n",
    "min_degree, max_degree = min(degree_counts.keys()), max(degree_counts.keys())\n",
    "\n",
    "plot_x = list(range(min_degree, max_degree + 1))\n",
    "plot_y = [degree_counts.get(x, 0) for x in plot_x]\n",
    "\n",
    "plt.bar(plot_x, plot_y)"
   ]
  },
  {
   "cell_type": "code",
   "execution_count": 13,
   "metadata": {},
   "outputs": [
    {
     "name": "stdout",
     "output_type": "stream",
     "text": [
      "Średnica grafu wynosi: 165\n"
     ]
    }
   ],
   "source": [
    "diameter = nx.diameter(G)\n",
    "print(f\"Średnica grafu wynosi: {diameter}\")"
   ]
  },
  {
   "cell_type": "code",
   "execution_count": 39,
   "metadata": {},
   "outputs": [
    {
     "data": {
      "image/png": "[encoded data removed]",
      "text/plain": [
       "<Figure size 432x288 with 1 Axes>"
      ]
     },
     "metadata": {
      "needs_background": "light"
     },
     "output_type": "display_data"
    },
    {
     "name": "stdout",
     "output_type": "stream",
     "text": [
      "Highest betweeness node is 1403682198\n"
     ]
    }
   ],
   "source": [
    "G2 = nx.DiGraph(G)\n",
    "\n",
    "betweenness = nx.centrality.betweenness_centrality(G2)\n",
    "highest_betweenness_node = max(G2.nodes, key=betweenness.get)\n",
    "plt.hist(betweenness.values())\n",
    "plt.show()\n",
    "\n",
    "\n",
    "print(f\"Highest betweeness node is {highest_betweenness_node}\")"
   ]
  },
  {
   "cell_type": "code",
   "execution_count": 35,
   "metadata": {},
   "outputs": [
    {
     "data": {
      "text/plain": [
       "1098288328"
      ]
     },
     "execution_count": 35,
     "metadata": {},
     "output_type": "execute_result"
    }
   ],
   "source": [
    "eccentricity  = nx.algorithms.distance_measures.eccentricity(G)\n",
    "highest_eccentricity_node  = max(G.nodes, key=eccentricity.get)\n",
    "highest_eccentricity_node \n",
    "\n"
   ]
  },
  {
   "cell_type": "code",
   "execution_count": 18,
   "metadata": {},
   "outputs": [],
   "source": [
    "G_nodes, G_streets = ox.graph_to_gdfs(G)\n",
    "\n",
    "G_nodes = G_nodes.to_crs(epsg=2177)\n",
    "G_streets = G_streets.to_crs(epsg=2177)"
   ]
  },
  {
   "cell_type": "markdown",
   "metadata": {},
   "source": [
    "## Tylko ścieki rowerowe, ktore istnieja (czerwone)"
   ]
  },
  {
   "cell_type": "code",
   "execution_count": 23,
   "metadata": {},
   "outputs": [
    {
     "data": {
      "text/plain": [
       "<networkx.classes.graph.Graph at 0x159482b50>"
      ]
     },
     "execution_count": 23,
     "metadata": {},
     "output_type": "execute_result"
    }
   ],
   "source": [
    "# G_bike_paths = G_streets[G_streets['type'] == 'bike_path'] # czerwony\n",
    "G_bike_paths = nx.Graph(((u, v, e) for u,v,e in G.edges(data=True) if e['type'] == 'bike_path'))\n",
    "G_bike_paths"
   ]
  },
  {
   "cell_type": "code",
   "execution_count": 26,
   "metadata": {},
   "outputs": [
    {
     "name": "stdout",
     "output_type": "stream",
     "text": [
      "Liczba krawędzi 7953\n",
      "Liczba wierzchołków 6849\n",
      "Liczba komponentów: 193\n"
     ]
    }
   ],
   "source": [
    "edges = G_bike_paths.edges()\n",
    "print(f\"Liczba krawędzi {len(edges)}\")\n",
    "nodes = G_bike_paths.nodes()\n",
    "print(f\"Liczba wierzchołków {len(nodes)}\")\n",
    "print(f\"Liczba komponentów: {nx.number_connected_components(G_bike_paths)}\")"
   ]
  },
  {
   "cell_type": "code",
   "execution_count": 30,
   "metadata": {},
   "outputs": [
    {
     "data": {
      "text/plain": [
       "<BarContainer object of 7 artists>"
      ]
     },
     "execution_count": 30,
     "metadata": {},
     "output_type": "execute_result"
    },
    {
     "data": {
      "image/png": "[encoded data removed]",
      "text/plain": [
       "<Figure size 720x576 with 1 Axes>"
      ]
     },
     "metadata": {
      "needs_background": "light"
     },
     "output_type": "display_data"
    }
   ],
   "source": [
    "degrees_bike_paths = []\n",
    "for node in nodes:\n",
    "    degree = G_bike_paths.degree(node)\n",
    "    degrees_bike_paths.append(degree)\n",
    "\n",
    "plt.figure(figsize=[10,8])\n",
    "from collections import Counter\n",
    "\n",
    "degree_counts = Counter(degrees_bike_paths)\n",
    "min_degree, max_degree = min(degree_counts.keys()), max(degree_counts.keys())\n",
    "\n",
    "plot_x = list(range(min_degree, max_degree + 1))\n",
    "plot_y = [degree_counts.get(x, 0) for x in plot_x]\n",
    "\n",
    "plt.bar(plot_x, plot_y)"
   ]
  },
  {
   "cell_type": "code",
   "execution_count": 33,
   "metadata": {},
   "outputs": [
    {
     "data": {
      "image/png": "[encoded data removed]",
      "text/plain": [
       "<Figure size 432x288 with 1 Axes>"
      ]
     },
     "metadata": {
      "needs_background": "light"
     },
     "output_type": "display_data"
    },
    {
     "name": "stdout",
     "output_type": "stream",
     "text": [
      "Highest betweeness node is 1003418\n"
     ]
    }
   ],
   "source": [
    "betweenness_bike_paths = nx.centrality.betweenness_centrality(G_bike_paths)\n",
    "highest_betweenness_node_bike_paths = max(G_bike_paths.nodes, key=betweenness_bike_paths.get)\n",
    "plt.hist(betweenness_bike_paths.values())\n",
    "plt.show()\n",
    "\n",
    "print(f\"Highest betweeness node is {highest_betweenness_node_bike_paths}\")"
   ]
  },
  {
   "cell_type": "code",
   "execution_count": 36,
   "metadata": {},
   "outputs": [
    {
     "data": {
      "text/plain": [
       "1000134"
      ]
     },
     "execution_count": 36,
     "metadata": {},
     "output_type": "execute_result"
    }
   ],
   "source": [
    "Gcc = sorted(nx.connected_components(G_bike_paths), key=len, reverse=True)\n",
    "G0 = G.subgraph(Gcc[0])\n",
    "\n",
    "eccentricity_bike_paths  = nx.algorithms.distance_measures.eccentricity(G0)\n",
    "highest_eccentricity_node_bike_paths  = max(G0.nodes, key=eccentricity_bike_paths.get)\n",
    "highest_eccentricity_node_bike_paths "
   ]
  },
  {
   "cell_type": "markdown",
   "metadata": {},
   "source": [
    "## Tylko nowo dodane sciezki"
   ]
  },
  {
   "cell_type": "code",
   "execution_count": 43,
   "metadata": {},
   "outputs": [
    {
     "data": {
      "text/plain": [
       "<networkx.classes.graph.Graph at 0x155d8bca0>"
      ]
     },
     "execution_count": 43,
     "metadata": {},
     "output_type": "execute_result"
    }
   ],
   "source": [
    "# G_bike = G_streets[G_streets.get('additional') == 'new_bike_path'] # niebieski\n",
    "# G_new_bike_paths = nx.Graph(((u, v, e) for u,v,e in G.edges(data=True) if e['additional'] == 'new_bike_path'))\n",
    "G_new_bike_paths = nx.Graph(((u, v, e) for u,v,e in G.edges(data=True) if e.get('additional') == 'new_bike_path'))\n",
    "G_new_bike_paths"
   ]
  },
  {
   "cell_type": "code",
   "execution_count": 44,
   "metadata": {},
   "outputs": [
    {
     "name": "stdout",
     "output_type": "stream",
     "text": [
      "Liczba krawędzi 9692\n",
      "Liczba wierzchołków 10221\n",
      "Liczba komponentów: 529\n"
     ]
    }
   ],
   "source": [
    "edges_new_bike_paths = G_new_bike_paths.edges()\n",
    "print(f\"Liczba krawędzi {len(edges_new_bike_paths)}\")\n",
    "nodes_new_bike_paths = G_new_bike_paths.nodes()\n",
    "print(f\"Liczba wierzchołków {len(nodes_new_bike_paths)}\")\n",
    "print(f\"Liczba komponentów: {nx.number_connected_components(G_new_bike_paths)}\")"
   ]
  },
  {
   "cell_type": "code",
   "execution_count": 45,
   "metadata": {},
   "outputs": [
    {
     "data": {
      "text/plain": [
       "<BarContainer object of 8 artists>"
      ]
     },
     "execution_count": 45,
     "metadata": {},
     "output_type": "execute_result"
    },
    {
     "data": {
      "image/png": "[encoded data removed]",
      "text/plain": [
       "<Figure size 720x576 with 1 Axes>"
      ]
     },
     "metadata": {
      "needs_background": "light"
     },
     "output_type": "display_data"
    }
   ],
   "source": [
    "degrees_new_bike_paths = []\n",
    "for node in nodes_new_bike_paths:\n",
    "    degree = G_new_bike_paths.degree(node)\n",
    "    degrees_new_bike_paths.append(degree)\n",
    "\n",
    "plt.figure(figsize=[10,8])\n",
    "from collections import Counter\n",
    "\n",
    "degree_counts = Counter(degrees_new_bike_paths)\n",
    "min_degree, max_degree = min(degree_counts.keys()), max(degree_counts.keys())\n",
    "\n",
    "plot_x = list(range(min_degree, max_degree + 1))\n",
    "plot_y = [degree_counts.get(x, 0) for x in plot_x]\n",
    "\n",
    "plt.bar(plot_x, plot_y)"
   ]
  },
  {
   "cell_type": "code",
   "execution_count": 47,
   "metadata": {},
   "outputs": [
    {
     "data": {
      "image/png": "[encoded data removed]",
      "text/plain": [
       "<Figure size 432x288 with 1 Axes>"
      ]
     },
     "metadata": {
      "needs_background": "light"
     },
     "output_type": "display_data"
    },
    {
     "name": "stdout",
     "output_type": "stream",
     "text": [
      "Highest betweeness node is 312802923\n"
     ]
    }
   ],
   "source": [
    "betweenness_new_bike_paths = nx.centrality.betweenness_centrality(G_new_bike_paths)\n",
    "highest_betweenness_node_new_bike_paths = max(G_new_bike_paths.nodes, key=betweenness_new_bike_paths.get)\n",
    "plt.hist(betweenness_new_bike_paths.values())\n",
    "plt.show()\n",
    "\n",
    "print(f\"Highest betweeness node is {highest_betweenness_node_new_bike_paths}\")"
   ]
  },
  {
   "cell_type": "code",
   "execution_count": null,
   "metadata": {},
   "outputs": [],
   "source": [
    "Gcc = sorted(nx.connected_components(G_new_bike_paths), key=len, reverse=True)\n",
    "G0 = G.subgraph(Gcc[0])\n",
    "\n",
    "eccentricity_new_bike_paths = nx.algorithms.distance_measures.eccentricity(G0)\n",
    "highest_eccentricity_node_new_bike_paths  = max(G0.nodes, key=eccentricity_new_bike_paths.get)\n",
    "highest_eccentricity_node_new_bike_paths"
   ]
  },
  {
   "cell_type": "markdown",
   "metadata": {},
   "source": [
    "## Nowe plus istniejące ściezki rowerowe"
   ]
  },
  {
   "cell_type": "code",
   "execution_count": 51,
   "metadata": {},
   "outputs": [
    {
     "data": {
      "text/plain": [
       "<networkx.classes.graph.Graph at 0x155cad040>"
      ]
     },
     "execution_count": 51,
     "metadata": {},
     "output_type": "execute_result"
    }
   ],
   "source": [
    "G_bike_all_paths = nx.Graph(((u, v, e) for u,v,e in G.edges(data=True) if e['type'] == 'bike_path' or e.get('additional') == 'new_bike_path'))\n",
    "G_bike_all_paths"
   ]
  },
  {
   "cell_type": "code",
   "execution_count": 52,
   "metadata": {},
   "outputs": [
    {
     "name": "stdout",
     "output_type": "stream",
     "text": [
      "Liczba krawędzi 17645\n",
      "Liczba wierzchołków 16541\n",
      "Liczba komponentów: 193\n"
     ]
    }
   ],
   "source": [
    "edges_bike_all_paths = G_bike_all_paths.edges()\n",
    "print(f\"Liczba krawędzi {len(edges_bike_all_paths)}\")\n",
    "nodes_bike_all_paths = G_bike_all_paths.nodes()\n",
    "print(f\"Liczba wierzchołków {len(nodes_bike_all_paths)}\")\n",
    "print(f\"Liczba komponentów: {nx.number_connected_components(G_bike_all_paths)}\")"
   ]
  },
  {
   "cell_type": "code",
   "execution_count": 53,
   "metadata": {},
   "outputs": [
    {
     "data": {
      "text/plain": [
       "<BarContainer object of 8 artists>"
      ]
     },
     "execution_count": 53,
     "metadata": {},
     "output_type": "execute_result"
    },
    {
     "data": {
      "image/png": "[encoded data removed]",
      "text/plain": [
       "<Figure size 720x576 with 1 Axes>"
      ]
     },
     "metadata": {
      "needs_background": "light"
     },
     "output_type": "display_data"
    }
   ],
   "source": [
    "degrees_bike_all_paths = []\n",
    "for node in nodes_bike_all_paths:\n",
    "    degree = G_bike_all_paths.degree(node)\n",
    "    degrees_bike_all_paths.append(degree)\n",
    "\n",
    "plt.figure(figsize=[10,8])\n",
    "from collections import Counter\n",
    "\n",
    "degree_counts = Counter(degrees_bike_all_paths)\n",
    "min_degree, max_degree = min(degree_counts.keys()), max(degree_counts.keys())\n",
    "\n",
    "plot_x = list(range(min_degree, max_degree + 1))\n",
    "plot_y = [degree_counts.get(x, 0) for x in plot_x]\n",
    "\n",
    "plt.bar(plot_x, plot_y)"
   ]
  },
  {
   "cell_type": "code",
   "execution_count": 73,
   "metadata": {},
   "outputs": [
    {
     "data": {
      "image/png": "[encoded data removed]",
      "text/plain": [
       "<Figure size 432x288 with 1 Axes>"
      ]
     },
     "metadata": {
      "needs_background": "light"
     },
     "output_type": "display_data"
    },
    {
     "name": "stdout",
     "output_type": "stream",
     "text": [
      "Highest betweeness node is 1003418\n"
     ]
    }
   ],
   "source": [
    "betweenness_bike_all_paths = nx.centrality.betweenness_centrality(G_bike_all_paths)\n",
    "highest_betweenness_bike_all_paths = max(G_bike_all_paths.nodes, key=betweenness_bike_all_paths.get)\n",
    "plt.hist(betweenness_bike_all_paths.values())\n",
    "plt.show()\n",
    "\n",
    "print(f\"Highest betweeness node is {highest_betweenness_bike_all_paths}\")"
   ]
  },
  {
   "cell_type": "code",
   "execution_count": 74,
   "metadata": {},
   "outputs": [
    {
     "data": {
      "text/plain": [
       "0.003031293652790353"
      ]
     },
     "execution_count": 74,
     "metadata": {},
     "output_type": "execute_result"
    }
   ],
   "source": [
    "np.mean(list(betweenness_bike_all_paths.values()))"
   ]
  },
  {
   "cell_type": "code",
   "execution_count": 55,
   "metadata": {},
   "outputs": [
    {
     "data": {
      "image/png": "[encoded data removed]",
      "text/plain": [
       "<Figure size 432x288 with 1 Axes>"
      ]
     },
     "metadata": {
      "needs_background": "light"
     },
     "output_type": "display_data"
    },
    {
     "data": {
      "text/plain": [
       "'1372_building'"
      ]
     },
     "execution_count": 55,
     "metadata": {},
     "output_type": "execute_result"
    }
   ],
   "source": [
    "Gcc = sorted(nx.connected_components(G_bike_all_paths), key=len, reverse=True)\n",
    "G0 = G.subgraph(Gcc[0])\n",
    "\n",
    "eccentricity_bike_all_paths = nx.algorithms.distance_measures.eccentricity(G0)\n",
    "plt.hist(eccentricity_bike_all_paths.values())\n",
    "plt.show()\n",
    "\n",
    "highest_eccentricity_bike_all_paths  = max(G0.nodes, key=eccentricity_bike_all_paths.get)\n",
    "highest_eccentricity_bike_all_paths"
   ]
  },
  {
   "cell_type": "code",
   "execution_count": 60,
   "metadata": {},
   "outputs": [
    {
     "data": {
      "text/plain": [
       "156.80419809773696"
      ]
     },
     "execution_count": 60,
     "metadata": {},
     "output_type": "execute_result"
    }
   ],
   "source": [
    "np.mean(list(eccentricity_bike_all_paths.values()))"
   ]
  },
  {
   "cell_type": "code",
   "execution_count": 64,
   "metadata": {},
   "outputs": [
    {
     "data": {
      "image/png": "[encoded data removed]",
      "text/plain": [
       "<Figure size 432x288 with 1 Axes>"
      ]
     },
     "metadata": {
      "needs_background": "light"
     },
     "output_type": "display_data"
    },
    {
     "data": {
      "text/plain": [
       "1004923"
      ]
     },
     "execution_count": 64,
     "metadata": {},
     "output_type": "execute_result"
    }
   ],
   "source": [
    "closeness_centrality_bike_all_paths = nx.closeness_centrality(G_bike_all_paths)\n",
    "plt.hist(closeness_centrality_bike_all_paths.values())\n",
    "plt.show()\n",
    "\n",
    "highest_closeness_centrality_bike_all_paths  = max(G_bike_all_paths.nodes, key=closeness_centrality_bike_all_paths.get)\n",
    "highest_closeness_centrality_bike_all_paths"
   ]
  },
  {
   "cell_type": "code",
   "execution_count": 65,
   "metadata": {},
   "outputs": [
    {
     "data": {
      "text/plain": [
       "0.006260080162644579"
      ]
     },
     "execution_count": 65,
     "metadata": {},
     "output_type": "execute_result"
    }
   ],
   "source": [
    "np.mean(list(closeness_centrality_bike_all_paths.values()))"
   ]
  },
  {
   "cell_type": "code",
   "execution_count": 71,
   "metadata": {},
   "outputs": [
    {
     "data": {
      "image/png": "[encoded data removed]",
      "text/plain": [
       "<Figure size 432x288 with 1 Axes>"
      ]
     },
     "metadata": {
      "needs_background": "light"
     },
     "output_type": "display_data"
    },
    {
     "data": {
      "text/plain": [
       "1000367"
      ]
     },
     "execution_count": 71,
     "metadata": {},
     "output_type": "execute_result"
    }
   ],
   "source": [
    "G2 = nx.DiGraph(G_bike_all_paths)\n",
    "\n",
    "clustering = nx.clustering(G2)\n",
    "\n",
    "plt.hist(clustering.values())\n",
    "plt.show()\n",
    "\n",
    "\n",
    "highest_clustering_bike_all_paths  = max(G2.nodes, key=clustering.get)\n",
    "highest_clustering_bike_all_paths"
   ]
  },
  {
   "cell_type": "code",
   "execution_count": 72,
   "metadata": {},
   "outputs": [
    {
     "data": {
      "text/plain": [
       "0.013566433767751705"
      ]
     },
     "execution_count": 72,
     "metadata": {},
     "output_type": "execute_result"
    }
   ],
   "source": [
    "np.mean(list(clustering.values()))"
   ]
  }
 ],
 "metadata": {
  "interpreter": {
   "hash": "fd5b23bf2ee22229c59d444e6f48159ffc07737b46a660c5212f46841c3aa2e2"
  },
  "kernelspec": {
   "display_name": "Python 3.9.9 64-bit ('venv': venv)",
   "language": "python",
   "name": "python3"
  },
  "language_info": {
   "codemirror_mode": {
    "name": "ipython",
    "version": 3
   },
   "file_extension": ".py",
   "mimetype": "text/x-python",
   "name": "python",
   "nbconvert_exporter": "python",
   "pygments_lexer": "ipython3",
   "version": "3.9.9"
  },
  "orig_nbformat": 4
 },
 "nbformat": 4,
 "nbformat_minor": 2
}
