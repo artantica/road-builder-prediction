{
 "cells": [
  {
   "cell_type": "code",
   "execution_count": 2,
   "metadata": {},
   "outputs": [
    {
     "name": "stdout",
     "output_type": "stream",
     "text": [
      "The autoreload extension is already loaded. To reload it, use:\n",
      "  %reload_ext autoreload\n"
     ]
    }
   ],
   "source": [
    "%load_ext autoreload\n",
    "%autoreload 2\n",
    "\n",
    "import os\n",
    "from itertools import count\n",
    "\n",
    "import contextily as cx\n",
    "import matplotlib.pyplot as plt\n",
    "import networkx as nx\n",
    "import numpy as np\n",
    "import geopandas\n",
    "import osmnx as ox\n",
    "import pandas as pd\n",
    "# from tqdm.auto import tqdm\n",
    "from libpysal.cg import voronoi_frames\n",
    "\n",
    "import shapely\n",
    "shapely.speedups.disable()\n",
    "\n",
    "DATA = \"data\""
   ]
  },
  {
   "cell_type": "code",
   "execution_count": 4,
   "metadata": {},
   "outputs": [],
   "source": [
    "G = nx.read_gpickle(os.path.join(DATA, \"shortest_paths.gpickle\"))"
   ]
  },
  {
   "cell_type": "code",
   "execution_count": 5,
   "metadata": {},
   "outputs": [
    {
     "name": "stdout",
     "output_type": "stream",
     "text": [
      "Liczba krawędzi 116896\n"
     ]
    }
   ],
   "source": [
    "edges = G.edges()\n",
    "print(f\"Liczba krawędzi {len(edges)}\")"
   ]
  },
  {
   "cell_type": "code",
   "execution_count": 7,
   "metadata": {},
   "outputs": [
    {
     "name": "stdout",
     "output_type": "stream",
     "text": [
      "Liczba wierzchołków 86564\n"
     ]
    }
   ],
   "source": [
    "nodes = G.nodes()\n",
    "print(f\"Liczba wierzchołków {len(nodes)}\")"
   ]
  },
  {
   "cell_type": "code",
   "execution_count": 9,
   "metadata": {},
   "outputs": [],
   "source": [
    "degrees = []\n",
    "for node in nodes:\n",
    "    degree = G.degree(node)\n",
    "    degrees.append(degree)"
   ]
  },
  {
   "cell_type": "code",
   "execution_count": 10,
   "metadata": {},
   "outputs": [
    {
     "data": {
      "text/plain": [
       "<BarContainer object of 24 artists>"
      ]
     },
     "execution_count": 10,
     "metadata": {},
     "output_type": "execute_result"
    },
    {
     "data": {
      "image/png": "[encoded data removed]",
      "text/plain": [
       "<Figure size 720x576 with 1 Axes>"
      ]
     },
     "metadata": {
      "needs_background": "light"
     },
     "output_type": "display_data"
    }
   ],
   "source": [
    "plt.figure(figsize=[10,8])\n",
    "from collections import Counter\n",
    "\n",
    "degree_counts = Counter(degrees)\n",
    "min_degree, max_degree = min(degree_counts.keys()), max(degree_counts.keys())\n",
    "\n",
    "plot_x = list(range(min_degree, max_degree + 1))\n",
    "plot_y = [degree_counts.get(x, 0) for x in plot_x]\n",
    "\n",
    "plt.bar(plot_x, plot_y)"
   ]
  },
  {
   "cell_type": "code",
   "execution_count": 12,
   "metadata": {},
   "outputs": [
    {
     "name": "stdout",
     "output_type": "stream",
     "text": [
      "Liczba komponentów: 1\n"
     ]
    }
   ],
   "source": [
    "print(f\"Liczba komponentów: {nx.number_connected_components(G)}\")"
   ]
  },
  {
   "cell_type": "code",
   "execution_count": 13,
   "metadata": {},
   "outputs": [
    {
     "name": "stdout",
     "output_type": "stream",
     "text": [
      "Średnica grafu wynosi: 165\n"
     ]
    }
   ],
   "source": [
    "diameter = nx.diameter(G)\n",
    "print(f\"Średnica grafu wynosi: {diameter}\")"
   ]
  },
  {
   "cell_type": "code",
   "execution_count": 37,
   "metadata": {},
   "outputs": [],
   "source": [
    "G2 = nx.DiGraph(G)\n",
    "\n",
    "betweenness = nx.centrality.betweenness_centrality(G2)\n",
    "highest_betweenness_node = max(G2.nodes, key=betweenness.get)\n",
    "plt.hist(betweenness.values())\n",
    "plt.show()\n",
    "\n",
    "\n",
    "print(f\"Highest betweeness node is {highest_betweenness_node}\")"
   ]
  },
  {
   "cell_type": "code",
   "execution_count": 35,
   "metadata": {},
   "outputs": [
    {
     "data": {
      "text/plain": [
       "1098288328"
      ]
     },
     "execution_count": 35,
     "metadata": {},
     "output_type": "execute_result"
    }
   ],
   "source": [
    "eccentricity  = nx.algorithms.distance_measures.eccentricity(G)\n",
    "highest_eccentricity_node  = max(G.nodes, key=eccentricity.get)\n",
    "highest_eccentricity_node "
   ]
  },
  {
   "cell_type": "code",
   "execution_count": null,
   "metadata": {},
   "outputs": [],
   "source": [
    "z podziałem na sieci czerwona, i reszte"
   ]
  },
  {
   "cell_type": "markdown",
   "metadata": {},
   "source": [
    "z podziałem na sieci czerwona, i reszte\n",
    "czerwona siec -> liczba komponentow\n",
    "centralny wierzcholek z istniejacymy i bez\n",
    "zidentyfikowac maxy"
   ]
  },
  {
   "cell_type": "code",
   "execution_count": 18,
   "metadata": {},
   "outputs": [],
   "source": [
    "G_nodes, G_streets = ox.graph_to_gdfs(G)\n",
    "\n",
    "G_nodes = G_nodes.to_crs(epsg=2177)\n",
    "G_streets = G_streets.to_crs(epsg=2177)"
   ]
  },
  {
   "cell_type": "markdown",
   "metadata": {},
   "source": [
    "## Tylko ścieki rowerowe, ktore istnieja (czerwone)"
   ]
  },
  {
   "cell_type": "code",
   "execution_count": 19,
   "metadata": {},
   "outputs": [],
   "source": [
    "G_bike = G_streets[G_streets['type'] == 'bike_path'] # czerwony"
   ]
  },
  {
   "cell_type": "code",
   "execution_count": 23,
   "metadata": {},
   "outputs": [
    {
     "data": {
      "text/plain": [
       "<networkx.classes.graph.Graph at 0x159482b50>"
      ]
     },
     "execution_count": 23,
     "metadata": {},
     "output_type": "execute_result"
    }
   ],
   "source": [
    "bike_paths = nx.Graph(((u, v, e) for u,v,e in G.edges(data=True) if e['type'] == 'bike_path'))\n",
    "bike_paths"
   ]
  },
  {
   "cell_type": "code",
   "execution_count": 26,
   "metadata": {},
   "outputs": [
    {
     "name": "stdout",
     "output_type": "stream",
     "text": [
      "Liczba krawędzi 7953\n",
      "Liczba wierzchołków 6849\n",
      "Liczba komponentów: 193\n"
     ]
    }
   ],
   "source": [
    "edges = bike_paths.edges()\n",
    "print(f\"Liczba krawędzi {len(edges)}\")\n",
    "nodes = bike_paths.nodes()\n",
    "print(f\"Liczba wierzchołków {len(nodes)}\")\n",
    "print(f\"Liczba komponentów: {nx.number_connected_components(bike_paths)}\")"
   ]
  },
  {
   "cell_type": "code",
   "execution_count": 30,
   "metadata": {},
   "outputs": [
    {
     "data": {
      "text/plain": [
       "<BarContainer object of 7 artists>"
      ]
     },
     "execution_count": 30,
     "metadata": {},
     "output_type": "execute_result"
    },
    {
     "data": {
      "image/png": "[encoded data removed]",
      "text/plain": [
       "<Figure size 720x576 with 1 Axes>"
      ]
     },
     "metadata": {
      "needs_background": "light"
     },
     "output_type": "display_data"
    }
   ],
   "source": [
    "degrees_bike_paths = []\n",
    "for node in nodes:\n",
    "    degree = bike_paths.degree(node)\n",
    "    degrees_bike_paths.append(degree)\n",
    "\n",
    "plt.figure(figsize=[10,8])\n",
    "from collections import Counter\n",
    "\n",
    "degree_counts = Counter(degrees_bike_paths)\n",
    "min_degree, max_degree = min(degree_counts.keys()), max(degree_counts.keys())\n",
    "\n",
    "plot_x = list(range(min_degree, max_degree + 1))\n",
    "plot_y = [degree_counts.get(x, 0) for x in plot_x]\n",
    "\n",
    "plt.bar(plot_x, plot_y)"
   ]
  },
  {
   "cell_type": "code",
   "execution_count": 33,
   "metadata": {},
   "outputs": [
    {
     "data": {
      "image/png": "[encoded data removed]",
      "text/plain": [
       "<Figure size 432x288 with 1 Axes>"
      ]
     },
     "metadata": {
      "needs_background": "light"
     },
     "output_type": "display_data"
    },
    {
     "name": "stdout",
     "output_type": "stream",
     "text": [
      "Highest betweeness node is 1003418\n"
     ]
    }
   ],
   "source": [
    "betweenness_bike_paths = nx.centrality.betweenness_centrality(bike_paths)\n",
    "highest_betweenness_node_bike_paths = max(bike_paths.nodes, key=betweenness_bike_paths.get)\n",
    "plt.hist(betweenness_bike_paths.values())\n",
    "plt.show()\n",
    "\n",
    "print(f\"Highest betweeness node is {highest_betweenness_node_bike_paths}\")"
   ]
  },
  {
   "cell_type": "code",
   "execution_count": 36,
   "metadata": {},
   "outputs": [
    {
     "data": {
      "text/plain": [
       "1000134"
      ]
     },
     "execution_count": 36,
     "metadata": {},
     "output_type": "execute_result"
    }
   ],
   "source": [
    "Gcc = sorted(nx.connected_components(bike_paths), key=len, reverse=True)\n",
    "G0 = G.subgraph(Gcc[0])\n",
    "\n",
    "eccentricity_bike_paths  = nx.algorithms.distance_measures.eccentricity(G0)\n",
    "highest_eccentricity_node_bike_paths  = max(G0.nodes, key=eccentricity_bike_paths.get)\n",
    "highest_eccentricity_node_bike_paths "
   ]
  },
  {
   "cell_type": "markdown",
   "metadata": {},
   "source": [
    "## Tylko wszystkie drogi (zielone)"
   ]
  },
  {
   "cell_type": "code",
   "execution_count": null,
   "metadata": {},
   "outputs": [],
   "source": [
    "# G_all_roads = G_streets[G_streets['type'] == 'all_road'] # zielony\n",
    "G_all_roads = nx.Graph(((u, v, e) for u,v,e in G.edges(data=True) if e['type'] == 'all_road'))\n",
    "G_all_roads"
   ]
  },
  {
   "cell_type": "code",
   "execution_count": null,
   "metadata": {},
   "outputs": [],
   "source": [
    "edges_all_roads = G_all_roads.edges()\n",
    "print(f\"Liczba krawędzi {len(edges_all_roads)}\")\n",
    "nodes_all_roads = G_all_roads.nodes()\n",
    "print(f\"Liczba wierzchołków {len(nodes_all_roads)}\")\n",
    "print(f\"Liczba komponentów: {nx.number_connected_components(G_all_roads)}\")"
   ]
  },
  {
   "cell_type": "code",
   "execution_count": null,
   "metadata": {},
   "outputs": [],
   "source": [
    "degrees_all_roads  = []\n",
    "for node in nodes_all_roads :\n",
    "    degree = G_all_roads.degree(node)\n",
    "    degrees_all_roads.append(degree)\n",
    "\n",
    "plt.figure(figsize=[10,8])\n",
    "from collections import Counter\n",
    "\n",
    "degree_counts = Counter(degrees_all_roads)\n",
    "min_degree, max_degree = min(degree_counts.keys()), max(degree_counts.keys())\n",
    "\n",
    "plot_x = list(range(min_degree, max_degree + 1))\n",
    "plot_y = [degree_counts.get(x, 0) for x in plot_x]\n",
    "\n",
    "plt.bar(plot_x, plot_y)"
   ]
  },
  {
   "cell_type": "code",
   "execution_count": null,
   "metadata": {},
   "outputs": [],
   "source": [
    "betweenness_all_roads = nx.centrality.betweenness_centrality(G_all_roads)\n",
    "highest_betweenness_node_all_roads = max(bike_paths.nodes, key=betweenness_all_roads.get)\n",
    "plt.hist(betweenness_all_roads.values())\n",
    "plt.show()\n",
    "\n",
    "print(f\"Highest betweeness node is {highest_betweenness_node_all_roads}\")"
   ]
  },
  {
   "cell_type": "code",
   "execution_count": null,
   "metadata": {},
   "outputs": [],
   "source": [
    "Gcc = sorted(nx.connected_components(G_all_roads), key=len, reverse=True)\n",
    "G0 = G.subgraph(Gcc[0])\n",
    "\n",
    "eccentricity_all_roads = nx.algorithms.distance_measures.eccentricity(G0)\n",
    "highest_eccentricity_node_all_roads  = max(G0.nodes, key=eccentricity_all_roads.get)\n",
    "highest_eccentricity_node_all_roads "
   ]
  },
  {
   "cell_type": "markdown",
   "metadata": {},
   "source": [
    "## Tylko nowo dodane sciezki"
   ]
  },
  {
   "cell_type": "code",
   "execution_count": null,
   "metadata": {},
   "outputs": [],
   "source": [
    "# G_bike = G_streets[G_streets.get('additional') == 'new_bike_path'] # niebieski\n",
    "G_new_bike_paths = nx.Graph(((u, v, e) for u,v,e in G.edges(data=True) if e['additional'] == 'new_bike_path'))\n",
    "G_new_bike_paths = nx.Graph(((u, v, e) for u,v,e in G.edges(data=True) if e.get('additional') == 'new_bike_path'))\n",
    "G_new_bike_paths"
   ]
  },
  {
   "cell_type": "code",
   "execution_count": null,
   "metadata": {},
   "outputs": [],
   "source": [
    "edges_new_bike_paths = G_new_bike_paths.edges()\n",
    "print(f\"Liczba krawędzi {len(edges_new_bike_paths)}\")\n",
    "nodes_new_bike_paths = G_new_bike_paths.nodes()\n",
    "print(f\"Liczba wierzchołków {len(nodes_new_bike_paths)}\")\n",
    "print(f\"Liczba komponentów: {nx.number_connected_components(G_new_bike_paths)}\")"
   ]
  },
  {
   "cell_type": "code",
   "execution_count": null,
   "metadata": {},
   "outputs": [],
   "source": [
    "degrees_new_bike_paths = []\n",
    "for node in nodes_new_bike_paths:\n",
    "    degree = G_new_bike_paths.degree(node)\n",
    "    degrees_new_bike_paths.append(degree)\n",
    "\n",
    "plt.figure(figsize=[10,8])\n",
    "from collections import Counter\n",
    "\n",
    "degree_counts = Counter(degrees_new_bike_paths)\n",
    "min_degree, max_degree = min(degree_counts.keys()), max(degree_counts.keys())\n",
    "\n",
    "plot_x = list(range(min_degree, max_degree + 1))\n",
    "plot_y = [degree_counts.get(x, 0) for x in plot_x]\n",
    "\n",
    "plt.bar(plot_x, plot_y)"
   ]
  },
  {
   "cell_type": "code",
   "execution_count": null,
   "metadata": {},
   "outputs": [],
   "source": [
    "betweenness_new_bike_paths = nx.centrality.betweenness_centrality(G_new_bike_paths)\n",
    "highest_betweenness_node_new_bike_paths = max(bike_paths.nodes, key=betweenness_new_bike_paths.get)\n",
    "plt.hist(betweenness_new_bike_paths.values())\n",
    "plt.show()\n",
    "\n",
    "print(f\"Highest betweeness node is {highest_betweenness_node_new_bike_paths}\")"
   ]
  },
  {
   "cell_type": "code",
   "execution_count": null,
   "metadata": {},
   "outputs": [],
   "source": [
    "Gcc = sorted(nx.connected_components(G_new_bike_paths), key=len, reverse=True)\n",
    "G0 = G.subgraph(Gcc[0])\n",
    "\n",
    "eccentricity_new_bike_paths = nx.algorithms.distance_measures.eccentricity(G0)\n",
    "highest_eccentricity_node_new_bike_paths  = max(G0.nodes, key=eccentricity_new_bike_paths.get)\n",
    "highest_eccentricity_node_new_bike_paths"
   ]
  }
 ],
 "metadata": {
  "interpreter": {
   "hash": "fd5b23bf2ee22229c59d444e6f48159ffc07737b46a660c5212f46841c3aa2e2"
  },
  "kernelspec": {
   "display_name": "Python 3.9.9 64-bit ('venv': venv)",
   "language": "python",
   "name": "python3"
  },
  "language_info": {
   "codemirror_mode": {
    "name": "ipython",
    "version": 3
   },
   "file_extension": ".py",
   "mimetype": "text/x-python",
   "name": "python",
   "nbconvert_exporter": "python",
   "pygments_lexer": "ipython3",
   "version": "3.9.9"
  },
  "orig_nbformat": 4
 },
 "nbformat": 4,
 "nbformat_minor": 2
}
