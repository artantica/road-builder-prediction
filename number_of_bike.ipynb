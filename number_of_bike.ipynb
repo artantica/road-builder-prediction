{
 "cells": [
  {
   "cell_type": "code",
   "execution_count": 2,
   "id": "3d4e181a",
   "metadata": {},
   "outputs": [
    {
     "name": "stderr",
     "output_type": "stream",
     "text": [
      "/home/asia/.pyenv/versions/3.8.0/lib/python3.8/site-packages/geopandas/_compat.py:111: UserWarning: The Shapely GEOS version (3.9.1-CAPI-1.14.2) is incompatible with the GEOS version PyGEOS was compiled with (3.10.1-CAPI-1.16.0). Conversions between both will be slow.\n",
      "  warnings.warn(\n"
     ]
    }
   ],
   "source": [
    "import os\n",
    "from itertools import count\n",
    "\n",
    "import shapefile\n",
    "import contextily as cx\n",
    "import matplotlib.pyplot as plt\n",
    "import networkx as nx\n",
    "import numpy as np\n",
    "import geopandas\n",
    "import osmnx as ox\n",
    "import pandas as pd\n",
    "from tqdm.auto import tqdm\n",
    "from libpysal.cg import voronoi_frames\n",
    "import momepy\n",
    "import math\n",
    "import shapely\n",
    "shapely.speedups.disable()\n",
    "\n",
    "DATA = \"data\""
   ]
  },
  {
   "cell_type": "code",
   "execution_count": 2,
   "id": "e7cf29ca",
   "metadata": {},
   "outputs": [],
   "source": [
    "G = nx.read_gpickle(os.path.join(DATA, \"spiw_peripheral_bike_and_investmap.gpickle\"))\n",
    "G=G.to_undirected()"
   ]
  },
  {
   "cell_type": "code",
   "execution_count": 3,
   "id": "7c7a0e81",
   "metadata": {},
   "outputs": [],
   "source": [
    "for u, v, data in G.edges(data=True):\n",
    "    if data[\"type\"]=='closest_crossing':\n",
    "        data[\"type\"]='all_road'\n",
    "    data[\"bike_counter\"]=0\n"
   ]
  },
  {
   "cell_type": "code",
   "execution_count": 4,
   "id": "02f28015",
   "metadata": {},
   "outputs": [],
   "source": [
    "buildings=[node for node in G.nodes if G.nodes[node][\"type\"]==\"building\"]"
   ]
  },
  {
   "cell_type": "code",
   "execution_count": 5,
   "id": "bc624958",
   "metadata": {},
   "outputs": [],
   "source": [
    "bike_crossings=[node for node in G.nodes if G.nodes[node][\"type\"]==\"bike_crossing\"]"
   ]
  },
  {
   "cell_type": "code",
   "execution_count": 6,
   "id": "ce3b564c",
   "metadata": {},
   "outputs": [],
   "source": [
    "H = nx.Graph(((u, v, e) for u,v,e in G.edges(data=True) if e['type'] == 'all_road'))"
   ]
  },
  {
   "cell_type": "code",
   "execution_count": 7,
   "id": "1873c5e4",
   "metadata": {},
   "outputs": [],
   "source": [
    "def path_length(G, path): \n",
    "    return sum([list(dict(G[path[i]][path[i+1]]).values())[0]['length'] for i in range(len(path)-1)])"
   ]
  },
  {
   "cell_type": "code",
   "execution_count": 8,
   "id": "b5655fff",
   "metadata": {},
   "outputs": [],
   "source": [
    "for u,v,e in G.edges(data=True):\n",
    "    if e['type'] == 'bike_path':\n",
    "        pt1=shapely.geometry.Point(G.nodes[u]['x'],G.nodes[u]['y'] )\n",
    "        pt2=shapely.geometry.Point(G.nodes[v]['x'],G.nodes[v]['y'])\n",
    "        points_df = geopandas.GeoDataFrame({'geometry': [pt1, pt2]}, crs='EPSG:4326').to_crs(\"EPSG:2177\")\n",
    "        e[\"length\"]=points_df.distance(points_df.shift())[1]\n",
    "#         print(points_df.distance(points_df.shift())[1])\n"
   ]
  },
  {
   "cell_type": "code",
   "execution_count": 9,
   "id": "0aff266a",
   "metadata": {},
   "outputs": [],
   "source": [
    "path_from_building_to_bike_lengths = []\n",
    "\n",
    "\n",
    "for b in tqdm(buildings):\n",
    "    shortest_paths=nx.shortest_path(G, source=b,  weight='length') \n",
    "#     not_bike=[node for node in shortest_paths.keys() if G.nodes[node][\"type\"]!=\"bike_crossing\" and G.nodes[node].get(\"additional\")!=\"new_bike_path\"]\n",
    "    not_bike=[node for node in shortest_paths.keys() if G.nodes[node][\"type\"]!=\"bike_crossing\"]\n",
    "\n",
    "    for n in not_bike:\n",
    "        shortest_paths.pop(n, None)\n",
    "    shortest_path=(math.inf, math.inf)\n",
    "    for key, shortest_tmp in shortest_paths.items():\n",
    "        shortest_length=path_length(G,shortest_tmp)\n",
    "        if shortest_length<shortest_path[1]:\n",
    "            shortest_path=(shortest_tmp,shortest_length)\n",
    "            \n",
    "    path_from_building_to_bike_lengths.append(shortest_path[1])\n",
    "    \n",
    "    for i in range(len(shortest_path[0])-1):\n",
    "        list(dict(G[shortest_path[0][i]][shortest_path[0][i+1]]).values())[0]['additional']=\"new_bike_path\"\n",
    "        list(dict(G[shortest_path[0][i]][shortest_path[0][i+1]]).values())[0]['bike_counter']+=1\n",
    "        G.nodes[shortest_path[0][i]][\"additional\"]=\"new_bike_crossing\"\n",
    "        \n",
    "    G.nodes[shortest_path[0][len(shortest_path[0])-1]][\"additional\"]=\"new_bike_crossing\""
   ]
  },
  {
   "cell_type": "code",
   "execution_count": 10,
   "id": "5754402a",
   "metadata": {},
   "outputs": [],
   "source": [
    "nx.write_gpickle(G, os.path.join(DATA, \"shortest_paths_counter.gpickle\")"
   ]
  },
  {
   "cell_type": "code",
   "execution_count": 3,
   "id": "d67077fc",
   "metadata": {},
   "outputs": [],
   "source": [
    "G = nx.read_gpickle(os.path.join(DATA, \"shortest_paths_counter.gpickle\"))\n"
   ]
  },
  {
   "cell_type": "code",
   "execution_count": 5,
   "id": "4e61c133",
   "metadata": {},
   "outputs": [],
   "source": [
    "G_nodes, G_streets = ox.graph_to_gdfs(G)\n",
    "\n",
    "G_nodes = G_nodes.to_crs(epsg=2177)\n",
    "G_streets = G_streets.to_crs(epsg=2177)"
   ]
  },
  {
   "cell_type": "code",
   "execution_count": 6,
   "id": "9ea4133c",
   "metadata": {},
   "outputs": [
    {
     "data": {
      "text/plain": [
       "0     107204\n",
       "1       6158\n",
       "2       1457\n",
       "3        553\n",
       "4        402\n",
       "5        193\n",
       "6        180\n",
       "8        126\n",
       "9        116\n",
       "7        100\n",
       "10        94\n",
       "11        41\n",
       "14        39\n",
       "12        27\n",
       "13        26\n",
       "43        19\n",
       "15        19\n",
       "22        15\n",
       "16        14\n",
       "36        13\n",
       "27        12\n",
       "20        12\n",
       "17        12\n",
       "26        10\n",
       "19        10\n",
       "31         9\n",
       "25         8\n",
       "18         7\n",
       "33         6\n",
       "21         5\n",
       "24         3\n",
       "38         3\n",
       "23         1\n",
       "35         1\n",
       "39         1\n",
       "Name: bike_counter, dtype: int64"
      ]
     },
     "metadata": {},
     "output_type": "display_data"
    }
   ],
   "source": [
    "with pd.option_context('display.max_rows', 100, 'display.max_columns', 5):\n",
    "    display(G_streets['bike_counter'].value_counts(dropna=False))"
   ]
  },
  {
   "cell_type": "code",
   "execution_count": null,
   "id": "90abb546",
   "metadata": {},
   "outputs": [],
   "source": [
    "fig = plt.figure(figsize=(20,20))\n",
    "ax = plt.subplot()\n",
    "G_nodes[G_nodes['type'] == 'building'].plot(\n",
    "    markersize=3, color='purple', ax=ax, zorder=7, label='Inwestycje'\n",
    ")\n",
    "\n",
    "G_streets[G_streets['type'] == 'all_road'].plot(\n",
    "    ax=ax, alpha=1, linewidth=0.5, edgecolor='gray', label='Wszystkie drogi'\n",
    ")\n",
    "# G_streets[G_streets['type'] == 'bike_path'].plot(\n",
    "#     ax=ax, alpha=1, linewidth=1.5, edgecolor='red', label='Istniejące ścieżki rowerowe'\n",
    "# )\n",
    "G_streets[G_streets.get('additional') == 'new_bike_path'].plot(column='bike_counter', linewidth=1, ax=ax, legend=True, cmap='Paired',\n",
    "                \n",
    "\n",
    "           legend_kwds={'label': \"Liczba powtarzających się nowych ścieżek rowerowych\",\n",
    "                        'orientation': \"horizontal\"} )\n",
    "\n",
    "ax.set_ylim(bottom=5.6461e6, top=5.6803e6)\n",
    "ax.set_xlim(left=6.4134e6, right=6.449e6)\n",
    "ax.set_yticklabels([])\n",
    "ax.set_xticklabels([])\n",
    "ax.set_xticks([])\n",
    "ax.set_yticks([])\n",
    "# cx.add_basemap(ax=ax, crs=G_nodes.crs.to_string(), source=cx.providers.CartoDB.Voyager)\n",
    "plt.savefig('image/bike_counter.png', dpi=400)"
   ]
  },
  {
   "cell_type": "code",
   "execution_count": null,
   "id": "4f3daa20",
   "metadata": {},
   "outputs": [],
   "source": []
  }
 ],
 "metadata": {
  "kernelspec": {
   "display_name": "Python 3 (ipykernel)",
   "language": "python",
   "name": "python3"
  },
  "language_info": {
   "codemirror_mode": {
    "name": "ipython",
    "version": 3
   },
   "file_extension": ".py",
   "mimetype": "text/x-python",
   "name": "python",
   "nbconvert_exporter": "python",
   "pygments_lexer": "ipython3",
   "version": "3.8.0"
  }
 },
 "nbformat": 4,
 "nbformat_minor": 5
}
